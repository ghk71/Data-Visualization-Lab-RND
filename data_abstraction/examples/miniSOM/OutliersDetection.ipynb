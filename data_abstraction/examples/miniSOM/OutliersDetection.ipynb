import sys
sys.path.insert(0, '../')

from minisom import MiniSom

import numpy as np
import matplotlib.pyplot as plt
from matplotlib.gridspec import GridSpec
%matplotlib inline

%load_ext autoreload
%autoreload 2


from sklearn.datasets import make_blobs
from sklearn.preprocessing import scale



