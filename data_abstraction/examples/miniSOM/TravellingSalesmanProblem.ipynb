from minisom import MiniSom

import numpy as np
import matplotlib.pyplot as plt
from matplotlib.gridspec import GridSpec
%matplotlib inline


np.random.RandomState(10)
N_points = 20
N_neurons = N_points*2
x = np.random.rand(N_points)
y = np.random.rand(N_points)



som = MiniSom(1, N_neurons, 2, sigma=3, neighborhood_function='triangle')
points = np.array([x,y]).T
som.pca_weights_init(points)
som.train_batch(points, 1000)



