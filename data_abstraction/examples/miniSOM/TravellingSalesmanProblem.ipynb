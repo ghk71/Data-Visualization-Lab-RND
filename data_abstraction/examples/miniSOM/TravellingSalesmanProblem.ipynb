from minisom import MiniSom

import numpy as np
import matplotlib.pyplot as plt
from matplotlib.gridspec import GridSpec
%matplotlib inline


np.random.RandomState(10)
N_points = 20
N_neurons = N_points*2
x = np.random.rand(N_points)
y = np.random.rand(N_points)



