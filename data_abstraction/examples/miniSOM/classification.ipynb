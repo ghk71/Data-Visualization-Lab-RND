import sys
sys.path.insert(0, '../')

from minisom import MiniSom

from sklearn.cross_validation import train_test_split
from sklearn.metrics import classification_report

import numpy as np
import matplotlib.pyplot as plt
from matplotlib.gridspec import GridSpec
%matplotlib inline

%load_ext autoreload

data = np.genfromtxt('iris.csv', delimiter=',', usecols=(0, 1, 2, 3))
data = np.apply_along_axis(lambda x: x/np.linalg.norm(x), 1, data)
labels = np.genfromtxt('iris.csv', delimiter=',', usecols=(4), dtype=str)

# Initialization and training
som = MiniSom(5, 5, 4, sigma=3, learning_rate=0.5, 
              neighborhood_function='triangle', random_seed=10)
