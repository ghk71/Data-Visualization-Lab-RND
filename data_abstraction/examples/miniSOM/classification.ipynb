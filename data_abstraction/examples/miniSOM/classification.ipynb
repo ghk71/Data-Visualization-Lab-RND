import sys
sys.path.insert(0, '../')

from minisom import MiniSom

from sklearn.cross_validation import train_test_split
from sklearn.metrics import classification_report

import numpy as np
import matplotlib.pyplot as plt
from matplotlib.gridspec import GridSpec
%matplotlib inline

%load_ext autoreload

data = np.genfromtxt('iris.csv', delimiter=',', usecols=(0, 1, 2, 3))
data = np.apply_along_axis(lambda x: x/np.linalg.norm(x), 1, data)
labels = np.genfromtxt('iris.csv', delimiter=',', usecols=(4), dtype=str)

# Initialization and training
som = MiniSom(5, 5, 4, sigma=3, learning_rate=0.5, 
              neighborhood_function='triangle', random_seed=10)




class_assignments = som.labels_map(data, labels)

def classify(som, data, class_assignments):
    """Classifies each sample in data in one of the classes definited
    using the method labels_map.
    Returns a list of the same length of data where the i-th element
    is the class assigned to data[i].
    """
    winmap = class_assignments
    default_class = np.sum(list(winmap.values())).most_common()[0][0]
    result = []
    for d in data:
        win_position = som.winner(d)
        if win_position in winmap:
            result.append(winmap[win_position].most_common()[0][0])
        else:
            result.append(default_class)
    return result

