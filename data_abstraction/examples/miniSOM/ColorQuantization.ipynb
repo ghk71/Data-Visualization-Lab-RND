import sys
sys.path.insert(0, '../')

from minisom import MiniSom

import numpy as np
import matplotlib.pyplot as plt
%matplotlib inline

%load_ext autoreload



