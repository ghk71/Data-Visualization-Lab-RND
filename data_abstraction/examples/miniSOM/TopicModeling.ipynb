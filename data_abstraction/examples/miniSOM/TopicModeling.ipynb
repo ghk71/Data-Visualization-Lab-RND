import numpy as np
import matplotlib.pyplot as plt
%matplotlib inline

from sklearn.datasets import fetch_20newsgroups
from sklearn.feature_extraction.text import TfidfVectorizer


dataset = fetch_20newsgroups(shuffle=True, random_state=1,
                             remove=('headers', 'footers', 'quotes'))
documents = dataset.data


no_features = 1000

tfidf_vectorizer = TfidfVectorizer(max_df=0.95, min_df=2,
                                   max_features=no_features,
                                   stop_words='english')
tfidf = tfidf_vectorizer.fit_transform(documents)
tfidf_feature_names = tfidf_vectorizer.get_feature_names()



from minisom import MiniSom


som = MiniSom(2, 4, no_features)


D = tfidf.todense().tolist()
som.pca_weights_init(D)
som.train_batch(D, 40000)


top_keywords = 10

weights = som.get_weights()
cnt = 1
for i in range(2):
    for j in range(4):
        keywords_idx = np.argsort(weights[i,j,:])[-top_keywords:]
        keywords = ' '.join([tfidf_feature_names[k] for k in keywords_idx])
        print('Topic', cnt, ':', keywords)
        #plt.text(i, j, tfidf_feature_names[])
        #plt.plot(i, j, '.')
        cnt += 1
