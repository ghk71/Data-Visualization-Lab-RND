import seaborn as sns
import matplotlib.pyplot as plt
sns.set()
sns.set_style('whitegrid')
sns.set_color_codes()

plt.rc('font', family='nanumgothic')
plt.rc('axes', unicode_minus=False)
current_palette = sns.color_palette()
sns.palplot(current_palette)
sns.palplot(sns.color_palette("Blues"))
